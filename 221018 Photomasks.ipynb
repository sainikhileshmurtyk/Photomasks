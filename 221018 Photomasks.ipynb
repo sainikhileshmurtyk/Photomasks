{
 "cells": [
  {
   "cell_type": "markdown",
   "metadata": {},
   "source": [
    "# Importing the necessary packages"
   ]
  },
  {
   "cell_type": "code",
   "execution_count": 1,
   "metadata": {},
   "outputs": [],
   "source": [
    "%load_ext autoreload"
   ]
  },
  {
   "cell_type": "code",
   "execution_count": 2,
   "metadata": {},
   "outputs": [],
   "source": [
    "%autoreload 2"
   ]
  },
  {
   "cell_type": "code",
   "execution_count": 3,
   "metadata": {},
   "outputs": [],
   "source": [
    "# System packages\n",
    "import os\n",
    "import csv\n",
    "from IPython.display import clear_output\n",
    "import time\n",
    "from dataclasses import dataclass\n",
    "import copy\n",
    "\n",
    "# Science Packages\n",
    "import numpy as np\n",
    "import scipy as sc\n",
    "from scipy import io\n",
    "import matplotlib.pyplot as plt\n",
    "\n",
    "# Data Packages\n",
    "import h5py\n",
    "import json\n",
    "\n",
    "# CAD Packages\n",
    "import gdstk\n",
    "import lib.GDSTKUtils as utils\n",
    "import lib.dither_utils as dit\n",
    "import lib.GDSTKMasks as mask_util\n",
    "\n",
    "# Import Parameters\n",
    "from lib.mask_dict import *\n"
   ]
  },
  {
   "cell_type": "code",
   "execution_count": 4,
   "metadata": {},
   "outputs": [],
   "source": [
    "# default size unit is microns, so define handy shortcuts for other units\n",
    "um = 1\n",
    "mm = 1e3\n",
    "cm = 1e4"
   ]
  },
  {
   "cell_type": "code",
   "execution_count": 5,
   "metadata": {},
   "outputs": [],
   "source": [
    "@dataclass\n",
    "class dither_obj(object):\n",
    "    x: np.matrix\n",
    "    y: np.matrix\n",
    "    block_size: np.matrix\n",
    "        "
   ]
  },
  {
   "cell_type": "code",
   "execution_count": 6,
   "metadata": {},
   "outputs": [],
   "source": [
    "def invert_coords(x_arr, y_arr):\n",
    "    tmp_x = y_arr\n",
    "    tmp_y = x_arr\n",
    "    return tmp_x, tmp_y\n",
    "\n",
    "def convert_coords(dims, x_arr, y_arr):\n",
    "    if type(dims) == float:\n",
    "        tmp_y = dims - y_arr\n",
    "        tmp_x = x_arr\n",
    "    elif type(dims) == list:\n",
    "        tmp_y = dims[0] - y_arr\n",
    "        tmp_x = x_arr\n",
    "    return tmp_x, tmp_y\n",
    "\n",
    "def shift_to_center(dims, x_arr, y_arr):\n",
    "    if type(dims) == float:\n",
    "        tmp_x = x_arr - (dims/ 2)\n",
    "        tmp_y = y_arr - (dims/ 2)\n",
    "    elif type(dims) == list:\n",
    "        tmp_x = x_arr - (dims[0]/ 2)\n",
    "        tmp_y = y_arr - (dims[1]/ 2)\n",
    "    return tmp_x, tmp_y\n",
    "\n",
    "def shift_to_zero(dims, x_arr, y_arr):\n",
    "    if type(dims) == float:\n",
    "        tmp_x = x_arr + (dims/ 2)\n",
    "        tmp_y = y_arr + (dims/ 2)\n",
    "    elif type(dims) == list:\n",
    "        tmp_x = x_arr + (dims[0]/ 2)\n",
    "        tmp_y = y_arr + (dims[1]/ 2)\n",
    "    return tmp_x, tmp_y\n",
    "\n",
    "def merge_centers(led_real_pos, pat_center, dims, invert = True, index = 0):\n",
    "    if invert == True:\n",
    "        center_led = [(led_real_pos['x'][index, dims[1]-1] + led_real_pos['x'][index,0])/2, (led_real_pos['y'][0,index] + led_real_pos['y'][dims[0]-1, index])/2]\n",
    "    elif invert == False:\n",
    "        center_led = [(led_real_pos['x'][index, dims[1] -1] + led_real_pos['x'][index,0])/2, (led_real_pos['y'][dims[0]-1, index] + led_real_pos['y'][0, index])/2]\n",
    "    shift = [pat_center[0] - center_led[0] , pat_center[1] - center_led[1]] \n",
    "    return shift"
   ]
  },
  {
   "cell_type": "markdown",
   "metadata": {},
   "source": [
    "## Reading in data\n",
    "### Matlab files"
   ]
  },
  {
   "cell_type": "code",
   "execution_count": 9,
   "metadata": {},
   "outputs": [],
   "source": [
    "# Loading the Matrix\n",
    "mat_path = os.path.join(\"Data\", \"Positions\", \"221026 Masks\", \"mnistspread_bleed_221025205444_cellarray.mat\")\n",
    "mat = io.loadmat(mat_path)\n",
    "\n",
    "# Reading cell data\n",
    "net0 = mat['net0cell']\n",
    "net1 = mat['net1cell']\n",
    "net2 = mat['net2cell']"
   ]
  },
  {
   "cell_type": "markdown",
   "metadata": {},
   "source": [
    "### h5 files"
   ]
  },
  {
   "cell_type": "code",
   "execution_count": 10,
   "metadata": {},
   "outputs": [],
   "source": [
    "# File locations\n",
    "LED_input_file = os.path.join(\"Data\", \"Positions\", \"positions\", \"LED_positions_input.h5\")\n",
    "LED_dev1_file = os.path.join(\"Data\", \"Positions\", \"positions\", \"LED_positions_device1.h5\")\n",
    "LED_dev2_file = os.path.join(\"Data\", \"Positions\", \"positions\", \"LED_positions_device2.h5\")\n",
    "\n",
    "PD_dev1_file = os.path.join(\"Data\", \"Positions\", \"positions\", \"PD_positions_device_1.h5\")\n",
    "PD_dev2_file = os.path.join(\"Data\", \"Positions\", \"positions\", \"PD_positions_device_2.h5\")\n",
    "PD_output_file = os.path.join(\"Data\", \"Positions\", \"positions\", \"PD_positions_output_ideal.h5\")\n",
    "\n",
    "# Loading the h5 file variables\n",
    "LED_input_h5 = h5py.File(LED_input_file, \"r\")\n",
    "LED_dev1_h5 = h5py.File(LED_dev1_file, \"r\")\n",
    "LED_dev2_h5 = h5py.File(LED_dev2_file, \"r\")\n",
    "\n",
    "PD_output_h5 = h5py.File(PD_output_file, \"r\")\n",
    "PD_dev1_h5 = h5py.File(PD_dev1_file, \"r\")\n",
    "PD_dev2_h5 = h5py.File(PD_dev2_file, \"r\")\n",
    "\n",
    "## Obtaining the data and transposing\n",
    "# Setting empty dictionaries\n",
    "LED_input_cen, LED_dev1_cen, LED_dev2_cen, PD_dev1_cen, PD_dev2_cen, PD_output_cen = {}, {}, {}, {}, {}, {}\n",
    "\n",
    "# Input\n",
    "LED_input_cen['x'] = np.array(LED_input_h5.get('LED_cen_x'))*mm\n",
    "LED_input_cen['y'] = np.array(LED_input_h5.get('LED_cen_y'))*mm\n",
    "LED_input_cen['x'], LED_input_cen['y'] = np.transpose(LED_input_cen['x']), np.transpose(LED_input_cen['y'])\n",
    "LED_input_cen['x'], LED_input_cen['y'] = utils.convert_coords([25*mm, 25*mm], LED_input_cen['x'], LED_input_cen['y'])\n",
    "\n",
    "\n",
    "# LED1\n",
    "LED_dev1_cen['x'] = np.array(LED_dev1_h5.get('LED_cen_x'))*mm\n",
    "LED_dev1_cen['y'] = np.array(LED_dev1_h5.get('LED_cen_y'))*mm\n",
    "LED_dev1_cen['x'], LED_dev1_cen['y'] = np.transpose(LED_dev1_cen['x']), np.transpose(LED_dev1_cen['y'])\n",
    "LED_dev1_cen['x'], LED_dev1_cen['y'] = utils.convert_coords([25*mm, 25*mm], LED_dev1_cen['x'], LED_dev1_cen['y'])\n",
    "\n",
    "# LED2\n",
    "LED_dev2_cen['x'] = np.array(LED_dev2_h5.get('LED_cen_x'))*mm\n",
    "LED_dev2_cen['y'] = np.array(LED_dev2_h5.get('LED_cen_y'))*mm\n",
    "LED_dev2_cen['x'], LED_dev2_cen['y'] = np.transpose(LED_dev2_cen['x']), np.transpose(LED_dev2_cen['y'])\n",
    "LED_dev2_cen['x'], LED_dev2_cen['y'] = utils.convert_coords([25*mm, 25*mm], LED_dev2_cen['x'], LED_dev2_cen['y'])\n",
    "\n",
    "# PD1 \n",
    "PD_dev1_cen['x'] = np.array(PD_dev1_h5.get('PD_cen_x'))*mm\n",
    "PD_dev1_cen['y'] = np.array(PD_dev1_h5.get('PD_cen_y'))*mm\n",
    "PD_dev1_cen['x'], PD_dev1_cen['y'] = np.transpose(PD_dev1_cen['x']), np.transpose(PD_dev1_cen['y'])\n",
    "PD_dev1_cen['x'], PD_dev1_cen['y'] = utils.convert_coords([25*mm, 25*mm], PD_dev1_cen['x'], PD_dev1_cen['y'])\n",
    "\n",
    "\n",
    "# PD2\n",
    "PD_dev2_cen['x'] = np.array(PD_dev2_h5.get('PD_cen_x'))*mm\n",
    "PD_dev2_cen['y'] = np.array(PD_dev2_h5.get('PD_cen_y'))*mm\n",
    "PD_dev2_cen['x'], PD_dev2_cen['y'] = np.transpose(PD_dev2_cen['x']), np.transpose(PD_dev2_cen['y'])\n",
    "PD_dev2_cen['x'], PD_dev2_cen['y'] = utils.convert_coords([25*mm, 25*mm], PD_dev2_cen['x'], PD_dev2_cen['y'])\n",
    "\n",
    "# Output\n",
    "PD_output_cen['x'] = np.array(PD_output_h5.get('PD_cen_x'))*mm\n",
    "PD_output_cen['y'] = np.array(PD_output_h5.get('PD_cen_y'))*mm\n",
    "PD_output_cen['x'], PD_output_cen['y'] = np.transpose(PD_output_cen['x']), np.transpose(PD_output_cen['y'])\n",
    "PD_output_cen['x'], PD_output_cen['y'] = utils.convert_coords([25*mm, 25*mm], PD_output_cen['x'], PD_output_cen['y'])"
   ]
  },
  {
   "cell_type": "code",
   "execution_count": 11,
   "metadata": {},
   "outputs": [],
   "source": [
    "json_file = os.path.join('Data', 'JSON', 'MNIST 215.json')"
   ]
  },
  {
   "cell_type": "markdown",
   "metadata": {},
   "source": [
    "# Mask sheet"
   ]
  },
  {
   "cell_type": "code",
   "execution_count": 24,
   "metadata": {},
   "outputs": [],
   "source": [
    "# File parameters \n",
    "sheet_height = 205*mm\n",
    "sheet_width = 280*mm\n",
    "\n",
    "# Initializing a GDS library\n",
    "mask_array = gdstk.Library()\n",
    "masks = mask_array.new_cell(\"Block Cell\")"
   ]
  },
  {
   "cell_type": "code",
   "execution_count": 25,
   "metadata": {},
   "outputs": [],
   "source": [
    "# Creating a meshgrid of center positions for all the masks\n",
    "pos_x_arr = np.arange(20*mm, 280*mm, 35*mm)\n",
    "pos_y_arr = np.arange(27.5*mm, 205*mm, 35*mm)\n",
    "center_x, center_y = np.meshgrid(pos_x_arr, pos_y_arr)"
   ]
  },
  {
   "cell_type": "code",
   "execution_count": 26,
   "metadata": {},
   "outputs": [],
   "source": [
    "# Constructing the list with the dictionaries\n",
    "mask_list = [\n",
    "    weight_mask_184_01, weight_mask_184_01, weight_mask_184_01,\n",
    "    weight_mask_184_12, weight_mask_184_12, weight_mask_184_12,\n",
    "    weight_mask_184_23, weight_mask_184_23, weight_mask_184_23,\n",
    "    weight_mask_200_01, weight_mask_200_01, weight_mask_200_01,\n",
    "    weight_mask_200_12, weight_mask_200_12, weight_mask_200_12,\n",
    "    weight_mask_200_23, weight_mask_200_23, weight_mask_200_23,\n",
    "    weight_mask_216_01, weight_mask_216_01, weight_mask_216_01,\n",
    "    weight_mask_216_01, weight_mask_216_12, weight_mask_216_12,\n",
    "    weight_mask_216_01, weight_mask_216_23, weight_mask_216_23,\n",
    "    cb_mask_01, cb_mask_01, cb_mask_01,\n",
    "    cb_mask_12, cb_mask_12, cb_mask_12,\n",
    "    cb_mask_23, cb_mask_23, cb_mask_23,\n",
    "    ph_mask_01, ph_mask_01, ph_mask_01, ph_mask_01,\n",
    "    ph_mask_shifted_01, ph_mask_shifted_01, ph_mask_shifted_01, ph_mask_shifted_01,\n",
    "    ph_mask_shifted_12, ph_mask_shifted_12, ph_mask_shifted_12, ph_mask_shifted_12,\n",
    "]"
   ]
  },
  {
   "cell_type": "code",
   "execution_count": 27,
   "metadata": {},
   "outputs": [],
   "source": [
    "index = 0\n",
    "for x, y in zip(center_x.flatten(), center_y.flatten()):\n",
    "    # masks = mask_util.generate_weight_mask_from_json(masks, \"0\", json_file, [x, y], net0, LED_input_cen, PD_dev1_cen)\n",
    "    masks = mask_util.sel_mask(masks, mask_list[index], [x,y])\n",
    "    index += 1"
   ]
  },
  {
   "cell_type": "code",
   "execution_count": 28,
   "metadata": {},
   "outputs": [],
   "source": [
    "# Writing the mask array to the GDS file\n",
    "mask_array.write_gds('test.gds')"
   ]
  },
  {
   "cell_type": "code",
   "execution_count": 18,
   "metadata": {},
   "outputs": [],
   "source": [
    "# File parameters \n",
    "sheet_height = 205*mm\n",
    "sheet_width = 280*mm\n",
    "\n",
    "# Initializing a GDS library\n",
    "mask_array = gdstk.Library()\n",
    "masks = mask_array.new_cell(\"Block Cell\")"
   ]
  },
  {
   "cell_type": "code",
   "execution_count": 19,
   "metadata": {},
   "outputs": [],
   "source": [
    "# masks = mask_util.sel_mask(masks, mask_list[0], [x,y])\n",
    "masks = mask_util.chequerboard_array(masks, [0,0], 10, LED_input_cen, PD_dev1_cen, 'Test')"
   ]
  },
  {
   "cell_type": "code",
   "execution_count": 20,
   "metadata": {},
   "outputs": [],
   "source": [
    "# Writing the mask array to the GDS file\n",
    "mask_array.write_gds('test.gds')"
   ]
  },
  {
   "cell_type": "code",
   "execution_count": 17,
   "metadata": {},
   "outputs": [],
   "source": [
    "# # Creating all the borders \n",
    "# for x, y in zip(center_x.flatten(), center_y.flatten()):\n",
    "#     slide_border = mask_util.rect_border([x, y], [30.25*mm, 30.25*mm], 250*um)\n",
    "#     masks.add(*slide_border)"
   ]
  },
  {
   "cell_type": "markdown",
   "metadata": {},
   "source": [
    "## Storing data in JSON files\n",
    "### Setting the different values for the different classes of masks"
   ]
  },
  {
   "cell_type": "code",
   "execution_count": 39,
   "metadata": {},
   "outputs": [],
   "source": [
    "# Files for 185\n",
    "mnist0_185 ={\n",
    "    \"name\": \"MNIST Input Layer\",\n",
    "    \"title\": \"MNIST 0 (185um)\",\n",
    "    \"magnification\": 10,\n",
    "    \"dither_size\": 185*um,\n",
    "}\n",
    "\n",
    "mnist1_185 ={\n",
    "    \"name\": \"MNIST First Layer\",\n",
    "    \"title\": \"MNIST 1 (185um)\",\n",
    "    \"magnification\": 12.5,\n",
    "    \"dither_size\": 185*um,\n",
    "}\n",
    "\n",
    "mnist2_185 ={\n",
    "    \"name\": \"MNIST Second Layer\",\n",
    "    \"title\": \"MNIST 2 (185um)\",\n",
    "    \"magnification\": 12.5,\n",
    "    \"dither_size\": 185*um,\n",
    "}\n",
    "\n",
    "master_dict_185 = {\n",
    "    '0': mnist0_185,\n",
    "    '1': mnist1_185,\n",
    "    '2': mnist2_185,\n",
    "}\n",
    "\n",
    "with open(\"MNIST 185.json\", \"w\") as outfile:\n",
    "    json.dump(master_dict_185, outfile)"
   ]
  },
  {
   "cell_type": "code",
   "execution_count": 40,
   "metadata": {},
   "outputs": [],
   "source": [
    "# Files for 200\n",
    "mnist0_200 ={\n",
    "    \"name\": \"MNIST Input Layer\",\n",
    "    \"title\": \"MNIST 0 (200um)\",\n",
    "    \"magnification\": 10,\n",
    "    \"dither_size\": 200*um,\n",
    "}\n",
    "\n",
    "mnist1_200 ={\n",
    "    \"name\": \"MNIST First Layer\",\n",
    "    \"title\": \"MNIST 1 (200um)\",\n",
    "    \"magnification\": 12.5,\n",
    "    \"dither_size\": 200*um,\n",
    "}\n",
    "\n",
    "mnist2_200 ={\n",
    "    \"name\": \"MNIST Second Layer\",\n",
    "    \"title\": \"MNIST 2 (200um)\",\n",
    "    \"magnification\": 12.5,\n",
    "    \"dither_size\": 200*um,\n",
    "}\n",
    "\n",
    "master_dict_200 = {\n",
    "    '0': mnist0_200,\n",
    "    '1': mnist1_200,\n",
    "    '2': mnist2_200,\n",
    "}\n",
    "\n",
    "with open(\"MNIST 200.json\", \"w\") as outfile:\n",
    "    json.dump(master_dict_200, outfile)"
   ]
  },
  {
   "cell_type": "code",
   "execution_count": 41,
   "metadata": {},
   "outputs": [],
   "source": [
    "# Files for 225\n",
    "mnist0_215 ={\n",
    "    \"name\": \"MNIST Input Layer\",\n",
    "    \"title\": \"MNIST 0 (215um)\",\n",
    "    \"magnification\": 10,\n",
    "    \"dither_size\": 215*um,\n",
    "}\n",
    "\n",
    "mnist1_215 ={\n",
    "    \"name\": \"MNIST First Layer\",\n",
    "    \"title\": \"MNIST 1 (215um)\",\n",
    "    \"magnification\": 12.5,\n",
    "    \"dither_size\": 215*um,\n",
    "}\n",
    "\n",
    "mnist2_215 ={\n",
    "    \"name\": \"MNIST Second Layer\",\n",
    "    \"title\": \"MNIST 2 (215um)\",\n",
    "    \"magnification\": 12.5,\n",
    "    \"dither_size\": 215*um,\n",
    "}\n",
    "\n",
    "master_dict_215 = {\n",
    "    '0': mnist0_215,\n",
    "    '1': mnist1_215,\n",
    "    '2': mnist2_215,\n",
    "}\n",
    "\n",
    "with open(\"MNIST 215.json\", \"w\") as outfile:\n",
    "    json.dump(master_dict_215, outfile)"
   ]
  },
  {
   "cell_type": "markdown",
   "metadata": {},
   "source": [
    "# Individual Mask"
   ]
  },
  {
   "cell_type": "markdown",
   "metadata": {},
   "source": [
    "### Chequerboard Mask"
   ]
  },
  {
   "cell_type": "code",
   "execution_count": 184,
   "metadata": {},
   "outputs": [],
   "source": [
    "sheet_height = 205*mm\n",
    "sheet_width = 280*mm\n",
    "\n",
    "# Initializing a GDSPY library\n",
    "gds_array = gdstk.Library()\n",
    "\n",
    "# GDSPY initialization stuff\n",
    "gds_mask = gds_array.new_cell(\"Block Cell\")"
   ]
  },
  {
   "cell_type": "code",
   "execution_count": 185,
   "metadata": {},
   "outputs": [],
   "source": [
    "led_real_pos = copy.deepcopy(LED_dev2_cen)\n",
    "pd_real_pos = copy.deepcopy(PD_output_cen)\n",
    "pd_real_pos['x'], pd_real_pos['y'] = utils.shift_to_center([25*mm, 25*mm], pd_real_pos['x'], pd_real_pos['y'])\n",
    "\n",
    "dims = led_real_pos['x'].shape\n",
    "pat_center = [15*mm, 15*mm]\n",
    "magnification = 10\n",
    "box_size = [150*um, 150*um]\n",
    "\n",
    "center_led = [(led_real_pos['x'][dims[0]-1, dims[1]-1] + led_real_pos['x'][0,0])/2, (led_real_pos['y'][0,0] + led_real_pos['y'][dims[0]-1, dims[1]-1])/2]\n",
    "shift = merge_centers(led_real_pos, pat_center, dims=dims)\n",
    "shift_led = [-(1/magnification * (led_real_pos['x'] - center_led[0])) + shift[0], -(1/magnification * (led_real_pos['y'] - center_led[1])) + shift[1]]\n",
    "center_pos = [shift_led[0] + led_real_pos['x'], shift_led[1] + led_real_pos['y']]\n",
    "center_cb = [-(1/magnification) * pd_real_pos['x'], -(1/magnification) * pd_real_pos['y']]\n",
    "\n",
    "tmat = sc.linalg.toeplitz(np.mod(np.arange(1,11,1), 2))\n",
    "\n",
    "for li in range(0, led_real_pos['x'].shape[0]):\n",
    "    for lj in range(0, led_real_pos['y'].shape[1]):\n",
    "        border = mask_util.rect_border([center_pos[0][li,lj], center_pos[1][li,lj]], [2.25*mm, 2.25*mm], 250*um)\n",
    "        gds_mask.add(*border)\n",
    "\n",
    "        # Adding alignment markers between the spots\n",
    "        marker_11 = gdstk.rectangle(*utils.convert_rect([200*um, 200*um], [shift_led[0][li,lj] + led_real_pos['x'][li,lj] - 1.5*mm, shift_led[1][li,lj] + led_real_pos['y'][li,lj] + 1.5*mm])) # top-left\n",
    "        marker_21 = gdstk.rectangle(*utils.convert_rect([200*um, 200*um], [shift_led[0][li,lj] + led_real_pos['x'][li,lj] - 1.5*mm, shift_led[1][li,lj] + led_real_pos['y'][li,lj] - 1.5*mm])) # bottom-left\n",
    "        marker_12 = gdstk.rectangle(*utils.convert_rect([200*um, 200*um], [shift_led[0][li,lj] + led_real_pos['x'][li,lj] + 1.5*mm, shift_led[1][li,lj] + led_real_pos['y'][li,lj] + 1.5*mm])) # top-right\n",
    "        marker_22 = gdstk.rectangle(*utils.convert_rect([200*um, 200*um], [shift_led[0][li,lj] + led_real_pos['x'][li,lj] + 1.5*mm, shift_led[1][li,lj] + led_real_pos['y'][li,lj] - 1.5*mm])) # bottom-right\n",
    "        gds_mask.add(marker_11, marker_12, marker_21, marker_22)\n",
    "\n",
    "        center_cb_shift_x, center_cb_shift_y = center_cb[0] + center_pos[0][li,lj], center_cb[1] + center_pos[1][li,lj]\n",
    "        for idx1 in range(0, center_cb_shift_x.shape[0]):\n",
    "            for idx2 in range(0, center_cb_shift_x.shape[1]):\n",
    "                if tmat[idx1, idx2] == 1:\n",
    "                    rect = gdstk.rectangle(*utils.convert_rect(box_size, [center_cb_shift_x[idx1, idx2], center_cb_shift_y[idx1, idx2]]))\n",
    "                    gds_mask.add(rect)"
   ]
  },
  {
   "cell_type": "code",
   "execution_count": 107,
   "metadata": {},
   "outputs": [],
   "source": [
    "# Writing the mask array to the GDS file\n",
    "gds_array.write_gds('test2.gds')"
   ]
  },
  {
   "cell_type": "code",
   "execution_count": 134,
   "metadata": {},
   "outputs": [
    {
     "data": {
      "text/plain": [
       "(8, 8)"
      ]
     },
     "execution_count": 134,
     "metadata": {},
     "output_type": "execute_result"
    }
   ],
   "source": [
    "center_cb_shift_x.shape"
   ]
  },
  {
   "cell_type": "code",
   "execution_count": 88,
   "metadata": {},
   "outputs": [],
   "source": [
    "temp_x = center_cb[0]\n",
    "temp_y = center_cb[1]"
   ]
  },
  {
   "cell_type": "markdown",
   "metadata": {},
   "source": [
    "### My Code"
   ]
  },
  {
   "cell_type": "code",
   "execution_count": 63,
   "metadata": {},
   "outputs": [],
   "source": [
    "# File parameters \n",
    "sheet_height = 205*mm\n",
    "sheet_width = 280*mm\n",
    "\n",
    "# Initializing a GDS library\n",
    "mask_array = gdstk.Library()\n",
    "masks = mask_array.new_cell(\"Block Cell\")"
   ]
  },
  {
   "cell_type": "code",
   "execution_count": 64,
   "metadata": {},
   "outputs": [],
   "source": [
    "# Creating the cut border 0f 30mm by 20mm around the mask\n",
    "pat_center = [15*mm, 15*mm]\n",
    "slide_border = mask_util.rect_border([pat_center[0], pat_center[1]], [30.25*mm, 30.25*mm], 250*um)\n",
    "masks.add(*slide_border)\n",
    "\n",
    "# Selecting the type of the mask\n",
    "sel_cell = copy.deepcopy(net0)\n",
    "\n",
    "# Smaller block sizes\n",
    "inner_dims = sel_cell[0,0].shape\n",
    "\n",
    "# Setting useful values\n",
    "magnification = 10\n",
    "dims = sel_cell.shape"
   ]
  },
  {
   "cell_type": "code",
   "execution_count": 65,
   "metadata": {},
   "outputs": [],
   "source": [
    "# Setting the sart, step and end values of the ideal positions\n",
    "ideal_start_pos, ideal_end_pos, ideal_sep = 1.25*mm, 25*mm, 2.5*mm\n",
    "\n",
    "# Initializing an empty dictionary to hold ideal positions\n",
    "pd_ideal_pos = {}\n",
    "pd_real_pos = {}\n",
    "led_real_pos = {}\n",
    "\n",
    "# Generating a meshgrid of values of idela positions\n",
    "pd_ideal_arr = np.arange(ideal_start_pos, ideal_end_pos, ideal_sep)\n",
    "pd_ideal_pos['x'], pd_ideal_pos['y'] =  np.meshgrid(pd_ideal_arr, pd_ideal_arr)\n",
    "pd_ideal_pos['x'], pd_ideal_pos['y'] = convert_coords(25*mm, pd_ideal_pos['x'], pd_ideal_pos['y'])\n",
    "pd_ideal_pos['x'], pd_ideal_pos['y'] = shift_to_center(25*mm, pd_ideal_pos['x'], pd_ideal_pos['y'])\n",
    "\n",
    "\n",
    "# Assigning the created variables\n",
    "pd_real_pos = copy.deepcopy(PD_dev1_cen)\n",
    "pd_real_pos['x'], pd_real_pos['y'] = shift_to_center(25*mm, pd_real_pos['x'], pd_real_pos['y'])\n",
    "led_real_pos = copy.deepcopy(LED_input_cen)\n",
    "\n",
    "# Inverting the coordinates (Not required since it's been done in the files shared by Alex)\n",
    "# led_real_pos['x'], led_real_pos['y'] = convert_coords(25*mm, led_real_pos['x'], led_real_pos['y'])\n",
    "# pd_real_pos['x'], pd_real_pos['y'] = convert_coords(25*mm, pd_real_pos['x'], pd_real_pos['y'])\n",
    "# pd_real_pos['x'], pd_real_pos['y'] = shift_to_center(25*mm, pd_real_pos['x'], pd_real_pos['y'])\n",
    "\n",
    "# Finding center position of the matrix\n",
    "center_led = [(led_real_pos['x'][dims[0]-1, dims[1]-1] + led_real_pos['x'][0,0])/2, (led_real_pos['y'][0,0] + led_real_pos['y'][dims[0]-1, dims[1]-1])/2]\n",
    "\n",
    "# Finding shifts\n",
    "shift = utils.merge_centers(led_real_pos, pat_center, dims=dims)"
   ]
  },
  {
   "cell_type": "code",
   "execution_count": 66,
   "metadata": {},
   "outputs": [],
   "source": [
    "for li in range(0, sel_cell.shape[0]):\n",
    "    for lj in range(0, sel_cell.shape[1]):\n",
    "        # Initializing an empty dictionary to hold coordinates and dimensions of the dithered values\n",
    "        dither_mat = {}\n",
    "\n",
    "        # Diagnostics\n",
    "        # print('sum: {}'.format(str(li+lj)))\n",
    "        # print('li: {} \\t lj: {}'.format(str(li), str(lj)))\n",
    "        \n",
    "        # Dithering the values in the 8 by 8 matrix\n",
    "        dither_mat['y'], dither_mat['x'], dither_mat['dim'] = dit.dither_16x(sel_cell[li,lj].flatten(), 0.0125) # Because the output from the dither_16x returns y dimension first\n",
    "        dither_mat['x'], dither_mat['y'], dither_mat['dim'] = np.array(dither_mat['x'], dtype=object)*mm, np.array(dither_mat['y'], dtype=object)*mm, np.array(dither_mat['dim'], dtype=object)*mm\n",
    "        \n",
    "        # Solution for the problem with recasting a matrix of empty arrays. This creates a new matrix of empty arrays of suitable size instead of recasting\n",
    "        if dither_mat['x'].size == 0:\n",
    "            # print('empty')\n",
    "            empty_mat = np.empty(inner_dims, dtype=object)\n",
    "            for li_loop1 in range(0, empty_mat.shape[0]):\n",
    "                for lj_loop1 in range(0, empty_mat.shape[1]):\n",
    "                    empty_mat[li_loop1,lj_loop1] = np.array([])\n",
    "            dither_mat['x'], dither_mat['y'], dither_mat['dim'] = empty_mat, empty_mat, empty_mat\n",
    "        else:\n",
    "            # Else, do the reshaping\n",
    "            dither_mat['x'], dither_mat['y'], dither_mat['dim'] = dither_mat['x'].reshape(inner_dims), dither_mat['y'].reshape(inner_dims), dither_mat['dim'].reshape(inner_dims)\n",
    "        \n",
    "        # Shifting the positions of the 10 by 10 weight matrices based on the LED positions and the also shifted for all of the patterns to be coincidental on the next layer\n",
    "        shift_led = [-(1/magnification * (led_real_pos['x'][li,lj] - center_led[0])) + shift[0], -(1/magnification * (led_real_pos['y'][li,lj] - center_led[1])) + shift[1]]\n",
    "        dither_mat['x'], dither_mat['y'], dither_mat['dim'] = dither_mat['x'] + led_real_pos['x'][li,lj] + shift_led[0], dither_mat['y'] + led_real_pos['y'][li,lj] + shift_led[1], dither_mat['dim']\n",
    "        \n",
    "        # Debug test by placing a border where the masks are supposed to be\n",
    "        # border = mask_util.rect_border([shift_led[0] + led_real_pos['x'][li,lj], shift_led[1] + led_real_pos['y'][li,lj]], [2.25*mm, 2.25*mm], 250*um)\n",
    "        # masks.add(*border)\n",
    "\n",
    "        # Adding alignment markers between the spots\n",
    "        marker_11 = gdstk.rectangle(*utils.convert_rect([200*um, 200*um], [shift_led[0] + led_real_pos['x'][li,lj] - 1.5*mm, shift_led[1] + led_real_pos['y'][li,lj] + 1.5*mm])) # top-left\n",
    "        marker_21 = gdstk.rectangle(*utils.convert_rect([200*um, 200*um], [shift_led[0] + led_real_pos['x'][li,lj] - 1.5*mm, shift_led[1] + led_real_pos['y'][li,lj] - 1.5*mm])) # bottom-left\n",
    "        marker_12 = gdstk.rectangle(*utils.convert_rect([200*um, 200*um], [shift_led[0] + led_real_pos['x'][li,lj] + 1.5*mm, shift_led[1] + led_real_pos['y'][li,lj] + 1.5*mm])) # top-right\n",
    "        marker_22 = gdstk.rectangle(*utils.convert_rect([200*um, 200*um], [shift_led[0] + led_real_pos['x'][li,lj] + 1.5*mm, shift_led[1] + led_real_pos['y'][li,lj] - 1.5*mm])) # bottom-right\n",
    "        masks.add(marker_11, marker_12, marker_21, marker_22)\n",
    "\n",
    "        # Looping within the 10 by 10 matrix \n",
    "        for idx1 in range(0, dither_mat['x'].shape[0]):\n",
    "            for idx2 in range(0, dither_mat['x'].shape[1]):\n",
    "                # print('idx1: {} \\t idx2: {}'.format(str(idx1), str(idx2)))\n",
    "                sel_mat = {}\n",
    "                sel_mat['x'], sel_mat['y'], sel_mat['dim'] = dither_mat['x'][idx1, idx2], dither_mat['y'][idx1, idx2], dither_mat['dim'][idx1, idx2]\n",
    "                if sel_mat['x'].size == 0 or sel_mat['y'].size == 0:\n",
    "                    # Skipping if the matrix is empty. Happens for 8 by 8 row for input\n",
    "                    continue\n",
    "\n",
    "                # Shifting the matrix according to the real positions of the photodiodes so the shifts are accounted for\n",
    "                sel_mat['x'], sel_mat['y'], sel_mat['dim'] = sel_mat['x'] - ((1/magnification) * pd_real_pos['x'][idx1, idx2]), sel_mat['y'] - ((1/magnification) * pd_real_pos['y'][idx1, idx2]), sel_mat['dim']\n",
    "                \n",
    "                # Placing rectangles at appropriate positions by looping through the dither blocks\n",
    "                for idx3 in range(0, sel_mat['x'].shape[0]):\n",
    "                    # print('idx1: {} \\t idx2: {} \\t idx3: {}'.format(str(idx1), str(idx2), str(idx3)))\n",
    "                    pattern = gdstk.rectangle(*utils.convert_rect([sel_mat['dim'][idx3], sel_mat['dim'][idx3]], [sel_mat['x'][idx3], sel_mat['y'][idx3]]))\n",
    "                    masks.add(pattern)"
   ]
  },
  {
   "cell_type": "code",
   "execution_count": 67,
   "metadata": {},
   "outputs": [
    {
     "data": {
      "text/plain": [
       "<gdstk.Cell at 0x7f5bab66ed70>"
      ]
     },
     "execution_count": 67,
     "metadata": {},
     "output_type": "execute_result"
    }
   ],
   "source": [
    "text_pos = (0.5*mm, 0.5*mm)\n",
    "desc = gdstk.text(r'Input Text', 0.75*mm, text_pos)\n",
    "masks.add(*desc)"
   ]
  },
  {
   "cell_type": "code",
   "execution_count": 68,
   "metadata": {},
   "outputs": [],
   "source": [
    "# Writing the mask array to the GDS file\n",
    "mask_array.write_gds('test.gds')"
   ]
  },
  {
   "cell_type": "code",
   "execution_count": 38,
   "metadata": {},
   "outputs": [],
   "source": [
    "temp_x = LED_dev1_cen['x']\n",
    "temp_y = LED_dev1_cen['y']"
   ]
  },
  {
   "cell_type": "markdown",
   "metadata": {},
   "source": [
    "## Individual Calculations\n",
    "### Dithering the input values"
   ]
  },
  {
   "cell_type": "code",
   "execution_count": 74,
   "metadata": {},
   "outputs": [],
   "source": [
    "dither_mat = {}\n",
    "tmp_mat = dit.dither_16x(net0[0,0].flatten(), 0.0125)\n",
    "dither_mat['y'] = np.array(tmp_mat[0], dtype=object).reshape(10,10)*mm\n",
    "dither_mat['x'] = np.array(tmp_mat[1], dtype=object).reshape(10,10)*mm\n",
    "dither_mat['dim'] = np.array(tmp_mat[1], dtype=object).reshape(10,10)*mm"
   ]
  },
  {
   "cell_type": "markdown",
   "metadata": {},
   "source": [
    "# Archival"
   ]
  },
  {
   "cell_type": "code",
   "execution_count": 7,
   "metadata": {},
   "outputs": [],
   "source": [
    "# Creating a meshgrid of center positions\n",
    "pos_x_arr = np.arange(20*mm, 280*mm, 35*mm)\n",
    "pos_y_arr = np.arange(27.5*mm, 205*mm, 35*mm)\n",
    "center_x, center_y = np.meshgrid(pos_x_arr, pos_y_arr)\n",
    "zero_x, zero_y = shift_to_zero([25*mm, 25*mm], center_x, center_y)"
   ]
  },
  {
   "cell_type": "markdown",
   "metadata": {},
   "source": [
    "## Creating the borders"
   ]
  },
  {
   "cell_type": "code",
   "execution_count": 8,
   "metadata": {},
   "outputs": [],
   "source": [
    "# slide_border = mask_util.rect_border((center_x.flatten(), center_y.flatten()), [30.25*mm, 30.25*mm], 250*um)\n",
    "for x, y in zip(center_x.flatten(), center_y.flatten()):\n",
    "    # print(\"x: \", x, \"\\t y:\", y)\n",
    "    slide_border = mask_util.rect_border([x, y], [30.25*mm, 30.25*mm], 250*um)\n",
    "    masks.add(*slide_border)"
   ]
  },
  {
   "cell_type": "markdown",
   "metadata": {},
   "source": [
    "## Creating the alignment markers"
   ]
  },
  {
   "cell_type": "code",
   "execution_count": 10,
   "metadata": {},
   "outputs": [
    {
     "ename": "NameError",
     "evalue": "name 'LED_dev1_cen_x' is not defined",
     "output_type": "error",
     "traceback": [
      "\u001b[0;31m---------------------------------------------------------------------------\u001b[0m",
      "\u001b[0;31mNameError\u001b[0m                                 Traceback (most recent call last)",
      "\u001b[1;32m/home/murty/Documents/Project Directory/Neuromorphic Computing/LEDNN/Hardware/Photomasks/Code/221018 Photomasks.ipynb Cell 15\u001b[0m in \u001b[0;36m<cell line: 1>\u001b[0;34m()\u001b[0m\n\u001b[0;32m----> <a href='vscode-notebook-cell:/home/murty/Documents/Project%20Directory/Neuromorphic%20Computing/LEDNN/Hardware/Photomasks/Code/221018%20Photomasks.ipynb#X20sZmlsZQ%3D%3D?line=0'>1</a>\u001b[0m \u001b[39mfor\u001b[39;00m x,y \u001b[39min\u001b[39;00m \u001b[39mzip\u001b[39m(LED_dev1_cen_x\u001b[39m.\u001b[39mflatten(), LED_dev1_cen_y\u001b[39m.\u001b[39mflatten()):\n\u001b[1;32m      <a href='vscode-notebook-cell:/home/murty/Documents/Project%20Directory/Neuromorphic%20Computing/LEDNN/Hardware/Photomasks/Code/221018%20Photomasks.ipynb#X20sZmlsZQ%3D%3D?line=1'>2</a>\u001b[0m     \u001b[39m# print('x: ', x, '\\t y: ', y)\u001b[39;00m\n\u001b[1;32m      <a href='vscode-notebook-cell:/home/murty/Documents/Project%20Directory/Neuromorphic%20Computing/LEDNN/Hardware/Photomasks/Code/221018%20Photomasks.ipynb#X20sZmlsZQ%3D%3D?line=2'>3</a>\u001b[0m     marker_11 \u001b[39m=\u001b[39m gdstk\u001b[39m.\u001b[39mrectangle(\u001b[39m*\u001b[39mutils\u001b[39m.\u001b[39mconvert_rect([\u001b[39m200\u001b[39m\u001b[39m*\u001b[39mum, \u001b[39m200\u001b[39m\u001b[39m*\u001b[39mum], [zero_x[\u001b[39m0\u001b[39m][\u001b[39m0\u001b[39m] \u001b[39m+\u001b[39m x \u001b[39m-\u001b[39m \u001b[39m1.5\u001b[39m\u001b[39m*\u001b[39mmm, zero_y[\u001b[39m0\u001b[39m][\u001b[39m0\u001b[39m] \u001b[39m+\u001b[39m y \u001b[39m+\u001b[39m \u001b[39m1.5\u001b[39m\u001b[39m*\u001b[39mmm])) \u001b[39m# top-left\u001b[39;00m\n\u001b[1;32m      <a href='vscode-notebook-cell:/home/murty/Documents/Project%20Directory/Neuromorphic%20Computing/LEDNN/Hardware/Photomasks/Code/221018%20Photomasks.ipynb#X20sZmlsZQ%3D%3D?line=3'>4</a>\u001b[0m     marker_21 \u001b[39m=\u001b[39m gdstk\u001b[39m.\u001b[39mrectangle(\u001b[39m*\u001b[39mutils\u001b[39m.\u001b[39mconvert_rect([\u001b[39m200\u001b[39m\u001b[39m*\u001b[39mum, \u001b[39m200\u001b[39m\u001b[39m*\u001b[39mum], [zero_x[\u001b[39m0\u001b[39m][\u001b[39m0\u001b[39m] \u001b[39m+\u001b[39m x \u001b[39m-\u001b[39m \u001b[39m1.5\u001b[39m\u001b[39m*\u001b[39mmm, zero_y[\u001b[39m0\u001b[39m][\u001b[39m0\u001b[39m] \u001b[39m+\u001b[39m y \u001b[39m-\u001b[39m \u001b[39m1.5\u001b[39m\u001b[39m*\u001b[39mmm])) \u001b[39m# bottom-left\u001b[39;00m\n",
      "\u001b[0;31mNameError\u001b[0m: name 'LED_dev1_cen_x' is not defined"
     ]
    }
   ],
   "source": [
    "for x,y in zip(LED_dev1_cen_x.flatten(), LED_dev1_cen_y.flatten()):\n",
    "    # print('x: ', x, '\\t y: ', y)\n",
    "    marker_11 = gdstk.rectangle(*utils.convert_rect([200*um, 200*um], [zero_x[0][0] + x - 1.5*mm, zero_y[0][0] + y + 1.5*mm])) # top-left\n",
    "    marker_21 = gdstk.rectangle(*utils.convert_rect([200*um, 200*um], [zero_x[0][0] + x - 1.5*mm, zero_y[0][0] + y - 1.5*mm])) # bottom-left\n",
    "    marker_12 = gdstk.rectangle(*utils.convert_rect([200*um, 200*um], [zero_x[0][0] + x + 1.5*mm, zero_y[0][0] + y + 1.5*mm])) # top-right\n",
    "    marker_22 = gdstk.rectangle(*utils.convert_rect([200*um, 200*um], [zero_x[0][0] + x + 1.5*mm, zero_y[0][0] + y - 1.5*mm])) # bottom-right\n",
    "    masks.add(marker_11, marker_12, marker_21, marker_22)"
   ]
  },
  {
   "cell_type": "code",
   "execution_count": null,
   "metadata": {},
   "outputs": [],
   "source": [
    "# Test location of the LEDs\n",
    "for x1, y1 in zip(zero_x.flatten(), zero_y.flatten()):\n",
    "    for x2,y2 in zip(LED_dev1_cen_x.flatten(), LED_dev1_cen_y.flatten()):\n",
    "        # print('x: ', x, '\\t y: ', y)\n",
    "        marker_test = gdstk.rectangle(*utils.convert_rect([2*mm, 2*mm], [x1 + x2, y1 + y2]))\n",
    "        masks.add(marker_test)\n",
    "\n",
    "mask_array.write_gds('test.gds')"
   ]
  },
  {
   "cell_type": "code",
   "execution_count": 11,
   "metadata": {},
   "outputs": [],
   "source": [
    "mask_array.write_gds('test.gds')"
   ]
  },
  {
   "cell_type": "code",
   "execution_count": 254,
   "metadata": {},
   "outputs": [],
   "source": [
    "# Initializing a GDS library\n",
    "mask_array = gdstk.Library()\n",
    "masks = mask_array.new_cell(\"Block Cell\")"
   ]
  },
  {
   "cell_type": "code",
   "execution_count": 255,
   "metadata": {},
   "outputs": [
    {
     "data": {
      "text/plain": [
       "<gdstk.Cell at 0x7f68667f6d50>"
      ]
     },
     "execution_count": 255,
     "metadata": {},
     "output_type": "execute_result"
    }
   ],
   "source": [
    "# slide_border = utils.rect_border((center_x.flatten(), center_y.flatten()), [30.25*mm, 30.25*mm], 250*um)\n",
    "x = 20*mm\n",
    "y = 27.5*mm\n",
    "slide_border = mask_util.rect_border([x, y], [30.25*mm, 30.25*mm], 250*um)\n",
    "masks.add(*slide_border)"
   ]
  },
  {
   "cell_type": "markdown",
   "metadata": {},
   "source": [
    "# Non-functional code"
   ]
  },
  {
   "cell_type": "markdown",
   "metadata": {},
   "source": [
    "## Calculating Positions\n",
    "Image that shows how the datastructure that holds all the data is designed. Each subsequent level shows what's contained within and then the dictionary keys or the shape of the numpy array for each level. The datatype is mentioned at the end  \n",
    "<center><img src='Images/221102 Data Structure.jpg' width = 1000></center>\n",
    "\n",
    "### Setting some values "
   ]
  },
  {
   "cell_type": "code",
   "execution_count": 11,
   "metadata": {},
   "outputs": [],
   "source": [
    "# Selecting the type of the mask\n",
    "sel_mat = copy.deepcopy(net0)\n",
    "\n",
    "# Setting useful values\n",
    "magnification = 10"
   ]
  },
  {
   "cell_type": "markdown",
   "metadata": {},
   "source": [
    "### Creating a data structure with all the values arranged in order"
   ]
  },
  {
   "cell_type": "code",
   "execution_count": 16,
   "metadata": {},
   "outputs": [
    {
     "ename": "ValueError",
     "evalue": "cannot reshape array of size 0 into shape (10,10)",
     "output_type": "error",
     "traceback": [
      "\u001b[0;31m---------------------------------------------------------------------------\u001b[0m",
      "\u001b[0;31mValueError\u001b[0m                                Traceback (most recent call last)",
      "\u001b[1;32m/home/murty/Documents/Project Directory/Neuromorphic Computing/LEDNN/Hardware/Photomasks/Code/221018 Photomasks.ipynb Cell 18\u001b[0m in \u001b[0;36m<cell line: 5>\u001b[0;34m()\u001b[0m\n\u001b[1;32m     <a href='vscode-notebook-cell:/home/murty/Documents/Project%20Directory/Neuromorphic%20Computing/LEDNN/Hardware/Photomasks/Code/221018%20Photomasks.ipynb#X23sZmlsZQ%3D%3D?line=10'>11</a>\u001b[0m tmp_mat \u001b[39m=\u001b[39m dit\u001b[39m.\u001b[39mdither_16x(net0[li,lj]\u001b[39m.\u001b[39mflatten(), \u001b[39m0.0125\u001b[39m)\n\u001b[1;32m     <a href='vscode-notebook-cell:/home/murty/Documents/Project%20Directory/Neuromorphic%20Computing/LEDNN/Hardware/Photomasks/Code/221018%20Photomasks.ipynb#X23sZmlsZQ%3D%3D?line=12'>13</a>\u001b[0m \u001b[39m# Reshaping the read dithered values to correct dimensions\u001b[39;00m\n\u001b[0;32m---> <a href='vscode-notebook-cell:/home/murty/Documents/Project%20Directory/Neuromorphic%20Computing/LEDNN/Hardware/Photomasks/Code/221018%20Photomasks.ipynb#X23sZmlsZQ%3D%3D?line=13'>14</a>\u001b[0m dither_mat[\u001b[39m'\u001b[39m\u001b[39my\u001b[39m\u001b[39m'\u001b[39m] \u001b[39m=\u001b[39m np\u001b[39m.\u001b[39;49marray(tmp_mat[\u001b[39m0\u001b[39;49m], dtype\u001b[39m=\u001b[39;49m\u001b[39mobject\u001b[39;49m)\u001b[39m.\u001b[39;49mreshape(\u001b[39m10\u001b[39;49m,\u001b[39m10\u001b[39;49m)\u001b[39m*\u001b[39mmm\n\u001b[1;32m     <a href='vscode-notebook-cell:/home/murty/Documents/Project%20Directory/Neuromorphic%20Computing/LEDNN/Hardware/Photomasks/Code/221018%20Photomasks.ipynb#X23sZmlsZQ%3D%3D?line=14'>15</a>\u001b[0m dither_mat[\u001b[39m'\u001b[39m\u001b[39mx\u001b[39m\u001b[39m'\u001b[39m] \u001b[39m=\u001b[39m np\u001b[39m.\u001b[39marray(tmp_mat[\u001b[39m1\u001b[39m], dtype\u001b[39m=\u001b[39m\u001b[39mobject\u001b[39m)\u001b[39m.\u001b[39mreshape(\u001b[39m10\u001b[39m,\u001b[39m10\u001b[39m)\u001b[39m*\u001b[39mmm\n\u001b[1;32m     <a href='vscode-notebook-cell:/home/murty/Documents/Project%20Directory/Neuromorphic%20Computing/LEDNN/Hardware/Photomasks/Code/221018%20Photomasks.ipynb#X23sZmlsZQ%3D%3D?line=15'>16</a>\u001b[0m dither_mat[\u001b[39m'\u001b[39m\u001b[39mdim\u001b[39m\u001b[39m'\u001b[39m] \u001b[39m=\u001b[39m np\u001b[39m.\u001b[39marray(tmp_mat[\u001b[39m1\u001b[39m], dtype\u001b[39m=\u001b[39m\u001b[39mobject\u001b[39m)\u001b[39m.\u001b[39mreshape(\u001b[39m10\u001b[39m,\u001b[39m10\u001b[39m)\u001b[39m*\u001b[39mmm\n",
      "\u001b[0;31mValueError\u001b[0m: cannot reshape array of size 0 into shape (10,10)"
     ]
    }
   ],
   "source": [
    "# Creating a data structure \n",
    "position_mat = np.ndarray(sel_mat.shape, dtype=object)\n",
    "\n",
    "# Looping over and calculating values\n",
    "for li in range(0, sel_mat.shape[0]):\n",
    "    for lj in range(0, sel_mat.shape[1]):\n",
    "        # Creating an empty dither dictionary\n",
    "        dither_mat = {}\n",
    "\n",
    "        # Calculating the dither values\n",
    "        tmp_mat = dit.dither_16x(net0[li,lj].flatten(), 0.0125)\n",
    "\n",
    "        # Reshaping the read dithered values to correct dimensions\n",
    "        dither_mat['y'] = np.array(tmp_mat[0], dtype=object).reshape(10,10)*mm\n",
    "        dither_mat['x'] = np.array(tmp_mat[1], dtype=object).reshape(10,10)*mm\n",
    "        dither_mat['dim'] = np.array(tmp_mat[1], dtype=object).reshape(10,10)*mm\n",
    "        \n",
    "        # Initializing empty dictionaries\n",
    "        pd_ideal_pos, pd_real_pos, led_mask_shift_mat, led_mask_shifted = {}, {}, {}, {}\n",
    "\n",
    "        # Ideal position matrix for photodiodes\n",
    "        ideal_start_pos, ideal_end_pos, ideal_sep = 1.25*mm, 25*mm, 2.5*mm\n",
    "        pd_ideal_arr = np.arange(ideal_start_pos, ideal_end_pos, ideal_sep)\n",
    "        pd_ideal_pos['x'], pd_ideal_pos['y'] =  np.meshgrid(pd_ideal_arr, pd_ideal_arr)\n",
    "        pd_ideal_pos['x'], pd_ideal_pos['y'] = convert_coords(25*mm, pd_ideal_pos['x'], pd_ideal_pos['y'])\n",
    "\n",
    "        # Real photodiode positions\n",
    "        pd_real_pos['x'], pd_real_pos['y'] = PD_dev1_cen['x'], PD_dev1_cen['y']\n",
    "        pd_real_pos['x'], pd_real_pos['y'] = convert_coords(25*mm, PD_dev1_cen['x'], PD_dev1_cen['y'])\n",
    "\n",
    "        # Calculating the shift\n",
    "        led_mask_shift_mat['x'], led_mask_shift_mat['y'] = (1/magnification) * (pd_ideal_pos['x'] - pd_real_pos['x']), (1/magnification) * (pd_ideal_pos['y'] - pd_real_pos['y']) \n",
    "\n",
    "        # Creating empty placeholder matrices\n",
    "        led_mask_shifted['x'] = np.zeros(dither_mat['x'].shape, dtype=object)\n",
    "        led_mask_shifted['y'] = np.zeros(dither_mat['y'].shape, dtype=object)\n",
    "        led_mask_shifted['dim'] = dither_mat['dim']\n",
    "\n",
    "        # Calculating the final positions\n",
    "        for lk in range(0, dither_mat['x'].shape[0]):\n",
    "            for ll in range(0, dither_mat['y'].shape[1]):\n",
    "                led_mask_shifted['x'][lk,ll] = dither_mat['x'][lk,ll] + led_mask_shift_mat['x'][lk,ll]\n",
    "                led_mask_shifted['y'][lk,ll] = dither_mat['y'][lk,ll] + led_mask_shift_mat['y'][lk,ll]\n",
    "        \n",
    "        # Assigning the calculated dictionaries in the data structure\n",
    "        position_mat[li,lj] = led_mask_shifted\n",
    "        # print(\"li: {} \\t lj: {}\".format(str(li),str(lj)))\n",
    "        "
   ]
  },
  {
   "cell_type": "markdown",
   "metadata": {},
   "source": [
    "### Creating shift matrices for the dither blocks \n",
    "The shift of the psotion of each of the individual dither blocks depends on the magnifications and the shift of the photodidoes from their ideal position. The way this can be calculated is as follows\n",
    "\\begin{align*}\n",
    "  x_{\\textrm{shifted}} &= x + \\frac{1}{\\textrm{mag}}\\big(x^{pd}_{\\textrm{real}} - x^{pd}_{\\textrm{ideal}}\\big) \\\\\n",
    "  y_{\\textrm{shifted}} &= y + \\frac{1}{\\textrm{mag}}\\big(y^{pd}_{\\textrm{real}} - y^{pd}_{\\textrm{ideal}}\\big)\n",
    "\\end{align*}"
   ]
  },
  {
   "cell_type": "code",
   "execution_count": 13,
   "metadata": {},
   "outputs": [],
   "source": [
    "# Initializing empty dictionaries\n",
    "pd_ideal_pos, pd_real_pos, led_mask_shift_mat, led_mask_shifted = {}, {}, {}, {}\n",
    "\n",
    "# Setting useful values\n",
    "magnification = 10\n",
    "\n",
    "# Ideal position matrix for photodiodes\n",
    "ideal_start_pos, ideal_end_pos, ideal_sep = 1.25*mm, 25*mm, 2.5*mm\n",
    "pd_ideal_arr = np.arange(ideal_start_pos, ideal_end_pos, ideal_sep)\n",
    "pd_ideal_pos['x'], pd_ideal_pos['y'] =  np.meshgrid(pd_ideal_arr, pd_ideal_arr)\n",
    "pd_ideal_pos['x'], pd_ideal_pos['y'] = convert_coords(25*mm, pd_ideal_pos['x'], pd_ideal_pos['y'])\n",
    "\n",
    "# Real photodiode positions\n",
    "pd_real_pos['x'], pd_real_pos['y'] = PD_dev1_cen['x'], PD_dev1_cen['y']\n",
    "pd_real_pos['x'], pd_real_pos['y'] = convert_coords(25*mm, PD_dev1_cen['x'], PD_dev1_cen['y'])\n",
    "\n",
    "# Calculating the shift\n",
    "led_mask_shift_mat['x'], led_mask_shift_mat['y'] = (1/magnification) * (pd_ideal_pos['x'] - pd_real_pos['x']), (1/magnification) * (pd_ideal_pos['y'] - pd_real_pos['y']) \n",
    "\n",
    "# Creating empty placeholder matrices\n",
    "led_mask_shifted['x'] = np.zeros(dither_mat['x'].shape, dtype=object)\n",
    "led_mask_shifted['y'] = np.zeros(dither_mat['y'].shape, dtype=object)\n",
    "led_mask_shifted['dim'] = dither_mat['dim']\n",
    "\n",
    "# Calculating the final positions\n",
    "for li in range(0, dither_mat['x'].shape[0]):\n",
    "    for lj in range(0, dither_mat['y'].shape[1]):\n",
    "        led_mask_shifted['x'][li,lj] = dither_mat['x'][li,lj] + led_mask_shift_mat['x'][li,lj]\n",
    "        led_mask_shifted['y'][li,lj] = dither_mat['y'][li,lj] + led_mask_shift_mat['y'][li,lj]"
   ]
  },
  {
   "cell_type": "code",
   "execution_count": 14,
   "metadata": {},
   "outputs": [],
   "source": [
    "led_mask_shifted['x'][1]\n",
    "temp_real = pd_real_pos['x']\n",
    "temp_ideal = pd_ideal_pos[\"x\"]"
   ]
  },
  {
   "cell_type": "markdown",
   "metadata": {},
   "source": [
    "### Creating position matrix for the larger block"
   ]
  },
  {
   "cell_type": "markdown",
   "metadata": {},
   "source": [
    "### Calculating the shifted positions according to the real LED position"
   ]
  },
  {
   "cell_type": "code",
   "execution_count": 17,
   "metadata": {},
   "outputs": [
    {
     "ename": "TypeError",
     "evalue": "'NoneType' object is not subscriptable",
     "output_type": "error",
     "traceback": [
      "\u001b[0;31m---------------------------------------------------------------------------\u001b[0m",
      "\u001b[0;31mTypeError\u001b[0m                                 Traceback (most recent call last)",
      "\u001b[1;32m/home/murty/Documents/Project Directory/Neuromorphic Computing/LEDNN/Hardware/Photomasks/Code/221018 Photomasks.ipynb Cell 20\u001b[0m in \u001b[0;36m<cell line: 13>\u001b[0;34m()\u001b[0m\n\u001b[1;32m     <a href='vscode-notebook-cell:/home/murty/Documents/Project%20Directory/Neuromorphic%20Computing/LEDNN/Hardware/Photomasks/Code/221018%20Photomasks.ipynb#X25sZmlsZQ%3D%3D?line=12'>13</a>\u001b[0m \u001b[39mfor\u001b[39;00m li \u001b[39min\u001b[39;00m \u001b[39mrange\u001b[39m(\u001b[39m0\u001b[39m,led_positions[\u001b[39m'\u001b[39m\u001b[39mx\u001b[39m\u001b[39m'\u001b[39m]\u001b[39m.\u001b[39mshape[\u001b[39m0\u001b[39m]):\n\u001b[1;32m     <a href='vscode-notebook-cell:/home/murty/Documents/Project%20Directory/Neuromorphic%20Computing/LEDNN/Hardware/Photomasks/Code/221018%20Photomasks.ipynb#X25sZmlsZQ%3D%3D?line=13'>14</a>\u001b[0m     \u001b[39mfor\u001b[39;00m lj \u001b[39min\u001b[39;00m \u001b[39mrange\u001b[39m(\u001b[39m0\u001b[39m, led_positions[\u001b[39m'\u001b[39m\u001b[39my\u001b[39m\u001b[39m'\u001b[39m]\u001b[39m.\u001b[39mshape[\u001b[39m1\u001b[39m]):\n\u001b[0;32m---> <a href='vscode-notebook-cell:/home/murty/Documents/Project%20Directory/Neuromorphic%20Computing/LEDNN/Hardware/Photomasks/Code/221018%20Photomasks.ipynb#X25sZmlsZQ%3D%3D?line=14'>15</a>\u001b[0m         position_mat[li,lj][\u001b[39m'\u001b[39m\u001b[39mx\u001b[39m\u001b[39m'\u001b[39m] \u001b[39m=\u001b[39m position_mat[li,lj][\u001b[39m'\u001b[39;49m\u001b[39mx\u001b[39;49m\u001b[39m'\u001b[39;49m] \u001b[39m+\u001b[39m led_positions_centered[\u001b[39m'\u001b[39m\u001b[39mx\u001b[39m\u001b[39m'\u001b[39m][li,lj] \u001b[39m+\u001b[39m led_positions_shifts[\u001b[39m'\u001b[39m\u001b[39mx\u001b[39m\u001b[39m'\u001b[39m][li,lj]\n\u001b[1;32m     <a href='vscode-notebook-cell:/home/murty/Documents/Project%20Directory/Neuromorphic%20Computing/LEDNN/Hardware/Photomasks/Code/221018%20Photomasks.ipynb#X25sZmlsZQ%3D%3D?line=15'>16</a>\u001b[0m         position_mat[li,lj][\u001b[39m'\u001b[39m\u001b[39my\u001b[39m\u001b[39m'\u001b[39m] \u001b[39m=\u001b[39m position_mat[li,lj][\u001b[39m'\u001b[39m\u001b[39my\u001b[39m\u001b[39m'\u001b[39m] \u001b[39m+\u001b[39m led_positions_centered[\u001b[39m'\u001b[39m\u001b[39my\u001b[39m\u001b[39m'\u001b[39m][li,lj] \u001b[39m+\u001b[39m led_positions_shifts[\u001b[39m'\u001b[39m\u001b[39my\u001b[39m\u001b[39m'\u001b[39m][li,lj]\n\u001b[1;32m     <a href='vscode-notebook-cell:/home/murty/Documents/Project%20Directory/Neuromorphic%20Computing/LEDNN/Hardware/Photomasks/Code/221018%20Photomasks.ipynb#X25sZmlsZQ%3D%3D?line=16'>17</a>\u001b[0m position_mat_flat \u001b[39m=\u001b[39m position_mat\u001b[39m.\u001b[39mflatten()\n",
      "\u001b[0;31mTypeError\u001b[0m: 'NoneType' object is not subscriptable"
     ]
    }
   ],
   "source": [
    "# Choosing the data source to follow\n",
    "led_positions = copy.deepcopy(LED_input_cen)\n",
    "led_positions_centered = {}\n",
    "\n",
    "# Shifting the coordinates to the center\n",
    "# led_positions_centered['x'], led_positions_centered['y'] = shift_to_center(25*mm, led_positions['x'], led_positions['y'])\n",
    "led_positions_centered['x'], led_positions_centered['y'] = led_positions['x'], led_positions['y']\n",
    "# Calclating the shift from the center\n",
    "led_positions_shifts = {}\n",
    "led_positions_shifts['x'], led_positions_shifts['y'] = (1/magnification) * (np.zeros(led_positions['x'].shape) - led_positions_centered['x']), (1/magnification) * (np.zeros(led_positions['y'].shape) - led_positions_centered['y'])\n",
    "\n",
    "# Shifting all the values \n",
    "for li in range(0,led_positions['x'].shape[0]):\n",
    "    for lj in range(0, led_positions['y'].shape[1]):\n",
    "        position_mat[li,lj]['x'] = position_mat[li,lj]['x'] + led_positions_centered['x'][li,lj] + led_positions_shifts['x'][li,lj]\n",
    "        position_mat[li,lj]['y'] = position_mat[li,lj]['y'] + led_positions_centered['y'][li,lj] + led_positions_shifts['y'][li,lj]\n",
    "position_mat_flat = position_mat.flatten()"
   ]
  },
  {
   "cell_type": "markdown",
   "metadata": {},
   "source": [
    "### Creating a test file with squares positioned at the coordinate values"
   ]
  },
  {
   "cell_type": "code",
   "execution_count": 60,
   "metadata": {},
   "outputs": [],
   "source": [
    "for idx1 in range(0, position_mat_flat.shape[0]):\n",
    "    for idx2 in range(0, position_mat_flat[idx1]['x'].shape[0]):\n",
    "        for idx3 in range(0, position_mat_flat[idx1]['x'].shape[0]):\n",
    "            selected_dict = {}\n",
    "            selected_dict['x'], selected_dict['y'], selected_dict['dim'] = position_mat_flat[idx1]['x'][idx2,idx3], position_mat_flat[idx1]['y'][idx2,idx3], position_mat_flat[idx1]['y'][idx2,idx3] \n",
    "            if selected_dict['x'].size == 0 or selected_dict['y'].size == 0:\n",
    "                 continue\n",
    "            for idx4 in range(0, selected_dict['x'].shape[0]):\n",
    "                pattern = gdstk.rectangle(*utils.convert_rect([selected_dict['dim'][idx4], selected_dict['dim'][idx4]], [selected_dict['x'][idx4], selected_dict['y'][idx4]]))\n",
    "                masks.add(pattern)\n",
    "                "
   ]
  },
  {
   "cell_type": "code",
   "execution_count": 61,
   "metadata": {},
   "outputs": [],
   "source": [
    "temp_x = position_mat[0,0]['x']"
   ]
  },
  {
   "cell_type": "markdown",
   "metadata": {},
   "source": [
    "### Saving the GDS file"
   ]
  },
  {
   "cell_type": "code",
   "execution_count": 62,
   "metadata": {},
   "outputs": [],
   "source": [
    "mask_array.write_gds('test.gds')"
   ]
  }
 ],
 "metadata": {
  "kernelspec": {
   "display_name": "Python 3.10.4 ('LED-NN')",
   "language": "python",
   "name": "python3"
  },
  "language_info": {
   "codemirror_mode": {
    "name": "ipython",
    "version": 3
   },
   "file_extension": ".py",
   "mimetype": "text/x-python",
   "name": "python",
   "nbconvert_exporter": "python",
   "pygments_lexer": "ipython3",
   "version": "3.10.4"
  },
  "orig_nbformat": 4,
  "vscode": {
   "interpreter": {
    "hash": "8132c70bdc6c20609d8510e328df5f9cbaadcca78f64a747b7b7d595a88c66aa"
   }
  }
 },
 "nbformat": 4,
 "nbformat_minor": 2
}
